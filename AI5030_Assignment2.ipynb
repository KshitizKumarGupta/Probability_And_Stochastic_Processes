{
  "nbformat": 4,
  "nbformat_minor": 0,
  "metadata": {
    "colab": {
      "name": "AI5030_Assignment2.ipynb",
      "provenance": [],
      "collapsed_sections": [],
      "toc_visible": true,
      "authorship_tag": "ABX9TyO5Ksl4UWzlj5afil0P1Z2E",
      "include_colab_link": true
    },
    "kernelspec": {
      "name": "python3",
      "display_name": "Python 3"
    },
    "language_info": {
      "name": "python"
    }
  },
  "cells": [
    {
      "cell_type": "markdown",
      "metadata": {
        "id": "view-in-github",
        "colab_type": "text"
      },
      "source": [
        "<a href=\"https://colab.research.google.com/github/KshitizKumarGupta/Probability_And_Stochastic_Processes/blob/main/AI5030_Assignment2.ipynb\" target=\"_parent\"><img src=\"https://colab.research.google.com/assets/colab-badge.svg\" alt=\"Open In Colab\"/></a>"
      ]
    },
    {
      "cell_type": "markdown",
      "source": [
        "**Suppose ${X_n}$ is a Markov Chain with $3$ states and a transition probability matrix**\n",
        "$  \\begin{pmatrix}\n",
        "\\frac{1}{3} & \\frac{1}{3} & \\frac{1}{3}\\\\\n",
        "\\frac{1}{2} & \\frac{1}{2} & 0\\\\\n",
        "0 & 0 & 1\n",
        "\\end{pmatrix}\n",
        "$\n",
        "\n",
        "**Then which of the following statement is true?**\n",
        "\n",
        "\n",
        "1.)   ${X_n}$ is irreducible.\n",
        "\n",
        "2.)   ${X_n}$ is recurrent.\n",
        "\n",
        "3.)   ${X_n}$ does not admit a stationary probability distribution.\n",
        "\n",
        "4.)   ${X_n}$ has an absorbing state. \n",
        "\n",
        "***Ans.) (4)***\n",
        "\n",
        "\n"
      ],
      "metadata": {
        "id": "i5YJTpVqf-6s"
      }
    },
    {
      "cell_type": "markdown",
      "source": [
        "# **PART(A):**   Finding whether the given Markov Chain is Irreducible or not."
      ],
      "metadata": {
        "id": "Rj0HxD0N4HE3"
      }
    },
    {
      "cell_type": "code",
      "source": [
        "from collections import defaultdict"
      ],
      "metadata": {
        "id": "edxqzf9sBC2B"
      },
      "execution_count": 129,
      "outputs": []
    },
    {
      "cell_type": "code",
      "source": [
        "class Graph:# Unweighted, Directed Graph\n",
        "    def __init__(self):\n",
        "        self.graph = defaultdict(list)\n",
        "    def addEdge(self, u, v):\n",
        "        self.graph[u].append(v)\n",
        "    def DFSUtil(self, v, visited):\n",
        "        visited.add(v)\n",
        "        print(v+1, end=' ')\n",
        "        for neighbour in self.graph[v]:\n",
        "            if neighbour not in visited:\n",
        "                self.DFSUtil(neighbour, visited)\n",
        "    def DFS(self, v):\n",
        "        global reachability\n",
        "        visited = set()\n",
        "        self.DFSUtil(v, visited)\n",
        "        for vertex in visited:\n",
        "          rechability[v][vertex]=1"
      ],
      "metadata": {
        "id": "fvzhaxj1BD9I"
      },
      "execution_count": 130,
      "outputs": []
    },
    {
      "cell_type": "code",
      "source": [
        "g = Graph()\n",
        "g.addEdge(0, 0)\n",
        "g.addEdge(0, 1)\n",
        "g.addEdge(0, 2)\n",
        "g.addEdge(1, 0)\n",
        "g.addEdge(1, 1)\n",
        "g.addEdge(2, 2)"
      ],
      "metadata": {
        "id": "wzWqqJziBWXt"
      },
      "execution_count": 131,
      "outputs": []
    },
    {
      "cell_type": "code",
      "source": [
        "rechability=[[0 for i in range(3)] for j in range(3)]"
      ],
      "metadata": {
        "id": "_gYUgJ1XBaW6"
      },
      "execution_count": 132,
      "outputs": []
    },
    {
      "cell_type": "code",
      "source": [
        "print(\"Following is DFS on all verties (starting from vertex \\\"1\\\" to vertex \\\"3\\\"):\\n\")\n",
        "for i in range(3):\n",
        "  print(\"Reachability from \"+str(i+1)+\" :\\n\")\n",
        "  g.DFS(i)\n",
        "  print(\"\\n\")"
      ],
      "metadata": {
        "colab": {
          "base_uri": "https://localhost:8080/"
        },
        "id": "lWqAae1TCgF7",
        "outputId": "56d0c113-ba33-4a32-c66a-0ae742ff67b7"
      },
      "execution_count": 133,
      "outputs": [
        {
          "output_type": "stream",
          "name": "stdout",
          "text": [
            "Following is DFS on all verties (starting from vertex \"1\" to vertex \"3\"):\n",
            "\n",
            "Reachability from 1 :\n",
            "\n",
            "1 2 3 \n",
            "\n",
            "Reachability from 2 :\n",
            "\n",
            "2 1 3 \n",
            "\n",
            "Reachability from 3 :\n",
            "\n",
            "3 \n",
            "\n"
          ]
        }
      ]
    },
    {
      "cell_type": "code",
      "source": [
        "print(\"Reachability Matrix :\\n\")\n",
        "for vertex in range(3):\n",
        "    print(rechability[vertex])"
      ],
      "metadata": {
        "colab": {
          "base_uri": "https://localhost:8080/"
        },
        "id": "CmuDaGpgBlxL",
        "outputId": "579bc3f4-1f20-4c02-9402-dd2ba6c07c7f"
      },
      "execution_count": 134,
      "outputs": [
        {
          "output_type": "stream",
          "name": "stdout",
          "text": [
            "Reachability Matrix :\n",
            "\n",
            "[1, 1, 1]\n",
            "[1, 1, 1]\n",
            "[0, 0, 1]\n"
          ]
        }
      ]
    },
    {
      "cell_type": "code",
      "source": [
        "check=0\n",
        "for vertex in range(3):\n",
        "  for i in range(3):\n",
        "    if(rechability[vertex][i]==0):\n",
        "      check=1\n",
        "      break\n",
        "\n",
        "if(check==1):\n",
        "  print(\"\\nGiven markov chain is not Irreducible.\")\n",
        "else:\n",
        "  print(\"\\nGiven markov chain is Irreducible.\")"
      ],
      "metadata": {
        "colab": {
          "base_uri": "https://localhost:8080/"
        },
        "id": "_C812lZCBg9i",
        "outputId": "c7d5d622-f5cb-4449-cf25-919c8097b917"
      },
      "execution_count": 135,
      "outputs": [
        {
          "output_type": "stream",
          "name": "stdout",
          "text": [
            "\n",
            "Given markov chain is not Irreducible.\n"
          ]
        }
      ]
    },
    {
      "cell_type": "markdown",
      "source": [
        "# **PART(B):** Finding whether the given Markov Chain is Recurrent or not. "
      ],
      "metadata": {
        "id": "tJJh6rsC3wFR"
      }
    },
    {
      "cell_type": "code",
      "source": [
        "class Graph():# Unweighted, Directed Graph\n",
        "    def __init__(self, vertices):\n",
        "        self.graph = [[0 for column in range(vertices)] for row in range(vertices)]\n",
        "        self.V = vertices\n",
        "    def isSafe(self, v, pos, path):\n",
        "        if self.graph[ path[pos-1] ][v] == 0:\n",
        "            return False\n",
        "        for vertex in path:\n",
        "            if vertex == v:\n",
        "                return False\n",
        "        return True\n",
        "    def hamCycleUtil(self, path, pos):\n",
        "        if pos == self.V:\n",
        "            if self.graph[ path[pos-1] ][ path[0] ] == 1:\n",
        "                return True\n",
        "            else:\n",
        "                return False\n",
        "        for v in range(1,self.V):\n",
        "          if self.isSafe(v, pos, path) == True:\n",
        "                path[pos] = v\n",
        "                if self.hamCycleUtil(path, pos+1) == True:\n",
        "                    return True\n",
        "                path[pos] = -1\n",
        "        return False\n",
        "    def hamCycle(self):\n",
        "        path = [-1] * self.V\n",
        "        path[0] = 0\n",
        "        if self.hamCycleUtil(path,1) == False:\n",
        "            print (\"Given markov chain is not recurrent becoz the state-transition graph has no Hamiltonian Cycle.\\n\")\n",
        "            return False\n",
        "        self.printSolution(path)\n",
        "        return True\n",
        "    def printSolution(self, path):\n",
        "        print (\"Given markov chain is Recurrent.\\n Following is one Hamiltonian Cycle:\")\n",
        "        for vertex in path:\n",
        "            print (vertex, end = \" \")\n",
        "        print (path[0], \"\\n\")"
      ],
      "metadata": {
        "id": "aonZMH9c3vem"
      },
      "execution_count": 136,
      "outputs": []
    },
    {
      "cell_type": "code",
      "source": [
        "g = Graph(3) # Since, Transition Diagram has 3 states.\n",
        "g.graph = [ [1, 1, 1], \n",
        "            [1, 1, 0],\n",
        "            [0, 0, 1]]\n",
        "g.hamCycle();"
      ],
      "metadata": {
        "colab": {
          "base_uri": "https://localhost:8080/"
        },
        "id": "aqGbS-67CxQ-",
        "outputId": "29182abc-a17c-4e48-ba27-4a7a02a7214a"
      },
      "execution_count": 137,
      "outputs": [
        {
          "output_type": "stream",
          "name": "stdout",
          "text": [
            "Given markov chain is not recurrent becoz the state-transition graph has no Hamiltonian Cycle.\n",
            "\n"
          ]
        }
      ]
    },
    {
      "cell_type": "markdown",
      "source": [
        "# **PART(C):** Finding whether the given Markov Chain admits a Stationary Probability Distribution or not."
      ],
      "metadata": {
        "id": "1nuOIoCH4kjp"
      }
    },
    {
      "cell_type": "markdown",
      "source": [
        "A stationary distribution of a Markov chain is a probability distribution that remains unchanged in the Markov chain as time progresses. \n",
        "\n",
        "Typically, it is represented as a row vector $\\pi$ whose entries are probabilities summing to $1$, and given transition matrix $\\textbf{P}$, it satisfies -\n",
        "\n",
        "$\\pi = \\pi \\textbf{P}$.\n",
        "\n",
        "\n",
        "\n",
        "\n",
        "In other words, $\\pi$ is invariant by the matrix $\\textbf{P}$."
      ],
      "metadata": {
        "id": "8ceeKEs7H7W4"
      }
    },
    {
      "cell_type": "markdown",
      "source": [
        "***Ergodic Markov chains*** have a unique stationary distribution, and ***absorbing Markov chains*** have stationary distributions with nonzero elements only in absorbing states. The stationary distribution gives information about the **stability** of a random process and, in certain cases, describes the limiting behavior of the Markov chain."
      ],
      "metadata": {
        "id": "yZE_eSzpiDU7"
      }
    },
    {
      "cell_type": "markdown",
      "source": [
        "The equation $\\pi \\textbf{P} =π$ looks very similar to the column vector equation $M v = \\lambda v$ for eigenvalues and eigenvectors, with $\\lambda = 1$. \n",
        "In fact, by transposing the matrices,\n",
        "\n",
        "$\\left(\\pi \\textbf{P}\\right)^T = \\pi^T \\implies \\textbf{P}^T \\pi^T = \\pi^T.$\n",
        " \n",
        "\n",
        "\n",
        "In other words, the transposed transition matrix $\\textbf{P}^T \n",
        "$\n",
        "  has eigenvectors with eigenvalue $1$ that are stationary distributions expressed as column vectors. Therefore, if the eigenvectors of $\\textbf{P}^T$\n",
        "  are known, then so are the stationary distributions of the Markov chain with transition matrix $\\textbf{P}$. \n",
        "\n",
        "In short, the stationary distribution is a left eigenvector (as opposed to the usual right eigenvectors) of the transition matrix.\n",
        "\n",
        "When there are multiple eigenvectors associated to an eigenvalue of 1, each such eigenvector gives rise to an associated stationary distribution. However, this can only occur when the Markov chain is reducible, i.e. has multiple communicating classes."
      ],
      "metadata": {
        "id": "sCWnBLk9iM97"
      }
    },
    {
      "cell_type": "code",
      "source": [
        "import numpy as np\n",
        "import scipy.linalg"
      ],
      "metadata": {
        "id": "pKuMHoiaPDhE"
      },
      "execution_count": 138,
      "outputs": []
    },
    {
      "cell_type": "code",
      "source": [
        "tp = np.array([[1/3,1/3, 1/3],\n",
        "              [0.5,0.5, 0], \n",
        "              [0,0,1]])"
      ],
      "metadata": {
        "id": "pT3jIK_cPEaE"
      },
      "execution_count": 139,
      "outputs": []
    },
    {
      "cell_type": "code",
      "source": [
        "w, v = np.linalg.eig(tp)\n",
        "values, left = scipy.linalg.eig(tp, right = False, left = True)"
      ],
      "metadata": {
        "id": "jeDycAODH7Ew"
      },
      "execution_count": 140,
      "outputs": []
    },
    {
      "cell_type": "code",
      "source": [
        "print(\"Printing the Eigen values of the given square array:\\n\",w)"
      ],
      "metadata": {
        "colab": {
          "base_uri": "https://localhost:8080/"
        },
        "id": "njUqdWp4PLeV",
        "outputId": "4fbeee19-9b48-406b-e153-42372c383551"
      },
      "execution_count": 141,
      "outputs": [
        {
          "output_type": "stream",
          "name": "stdout",
          "text": [
            "Printing the Eigen values of the given square array:\n",
            " [0.         0.83333333 1.        ]\n"
          ]
        }
      ]
    },
    {
      "cell_type": "code",
      "source": [
        "eigen_value=np.iscomplex(values)  \n",
        "left=np.transpose(left)\n",
        "eigen_vector=np.iscomplex(left)"
      ],
      "metadata": {
        "id": "CBhkIJo4em4N"
      },
      "execution_count": 142,
      "outputs": []
    },
    {
      "cell_type": "code",
      "source": [
        "req_values=[]\n",
        "req_vectors=[]\n",
        "for i in range(len(values)):\n",
        "    if (eigen_value[i]==False):\n",
        "      temp=0\n",
        "      for j in left[i]:\n",
        "        if(j<0):\n",
        "          temp=1\n",
        "      if(temp==0):\n",
        "        req_values.append(values[i])\n",
        "        req_vectors.append(left[i])"
      ],
      "metadata": {
        "id": "VUElVW3ybufn"
      },
      "execution_count": 143,
      "outputs": []
    },
    {
      "cell_type": "code",
      "source": [
        "for i in range(len(req_values)):\n",
        "      print(\"Left eigenvector for eigenvalue {}:\".format(req_values[i]))\n",
        "      print(req_vectors[i])\n",
        "      print()"
      ],
      "metadata": {
        "colab": {
          "base_uri": "https://localhost:8080/"
        },
        "id": "XvcsiPxMXcGR",
        "outputId": "cd2124e9-d191-4753-c055-9ee3ba133c45"
      },
      "execution_count": 144,
      "outputs": [
        {
          "output_type": "stream",
          "name": "stdout",
          "text": [
            "Left eigenvector for eigenvalue (1+0j):\n",
            "[0. 0. 1.]\n",
            "\n"
          ]
        }
      ]
    },
    {
      "cell_type": "code",
      "source": [
        "if(req_values):\n",
        "  print(\"There exists a left eigen-vector for which we can have a Stationary Distribution for given Markov Chain.\")\n",
        "else:\n",
        "  print(\"Markov Chain does not admit a Stationary Probability Distribution.\")"
      ],
      "metadata": {
        "colab": {
          "base_uri": "https://localhost:8080/"
        },
        "id": "tRyDtgGRevdw",
        "outputId": "e8c3682b-e3f6-4091-d9be-c09ac42d9a13"
      },
      "execution_count": 145,
      "outputs": [
        {
          "output_type": "stream",
          "name": "stdout",
          "text": [
            "There exists a left eigen-vector for which we can have a Stationary Distribution for given Markov Chain.\n"
          ]
        }
      ]
    },
    {
      "cell_type": "markdown",
      "source": [
        "# **PART(D):** Finding whether the given Markov Chain has an Absorbing State or not."
      ],
      "metadata": {
        "id": "UBHOaM5-4YJv"
      }
    },
    {
      "cell_type": "code",
      "source": [
        "class Graph():# Weighted, Directed Graph \n",
        "    def __init__(self, vertices):\n",
        "        self.graph = [[0 for column in range(vertices)] for row in range(vertices)]\n",
        "        self.V = vertices\n",
        "    def absorbing_state(self):\n",
        "        for i in range(self.V):\n",
        "          if(self.graph[i][i]==1):\n",
        "            return \"Given markov chain has an Absorbing State : \"+str(i+1)\n",
        "        return \"Given markov chain has no Absorbing States.\""
      ],
      "metadata": {
        "id": "JuN0Qmme4jjd"
      },
      "execution_count": 146,
      "outputs": []
    },
    {
      "cell_type": "code",
      "source": [
        "g = Graph(3) # Since, Transition Diagram has 3 states.\n",
        "g.graph = [ [1/3, 1/3, 1/3], \n",
        "            [1/2, 1/2, 0],\n",
        "            [0, 0, 1]]\n",
        "g.absorbing_state()"
      ],
      "metadata": {
        "colab": {
          "base_uri": "https://localhost:8080/",
          "height": 35
        },
        "id": "ulpzMCaiGexN",
        "outputId": "9efdbac0-4d8d-4293-a83d-7913eb8f5b68"
      },
      "execution_count": 147,
      "outputs": [
        {
          "output_type": "execute_result",
          "data": {
            "application/vnd.google.colaboratory.intrinsic+json": {
              "type": "string"
            },
            "text/plain": [
              "'Given markov chain has an Absorbing State : 3'"
            ]
          },
          "metadata": {},
          "execution_count": 147
        }
      ]
    }
  ]
}